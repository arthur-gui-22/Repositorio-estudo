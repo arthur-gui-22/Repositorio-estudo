{
  "nbformat": 4,
  "nbformat_minor": 0,
  "metadata": {
    "colab": {
      "provenance": [],
      "authorship_tag": "ABX9TyMIYPwS2C1zAXfXuiXIV+Ps",
      "include_colab_link": true
    },
    "kernelspec": {
      "name": "python3",
      "display_name": "Python 3"
    },
    "language_info": {
      "name": "python"
    }
  },
  "cells": [
    {
      "cell_type": "markdown",
      "metadata": {
        "id": "view-in-github",
        "colab_type": "text"
      },
      "source": [
        "<a href=\"https://colab.research.google.com/github/arthur-gui-22/Repositorio-estudo/blob/main/Gerenciador%20de%20tarefas.ipynb\" target=\"_parent\"><img src=\"https://colab.research.google.com/assets/colab-badge.svg\" alt=\"Open In Colab\"/></a>"
      ]
    },
    {
      "cell_type": "code",
      "source": [
        "# Gerenciador de tarefas\n",
        "\n",
        "tarefas = []\n",
        "\n",
        "menu = \"\"\"\n",
        "\n",
        "  [1] Adicinar Tarefa.\n",
        "  [2] Remover Tarefa\n",
        "  [3] Listar Tarefas\n",
        "  [4] Marcar Tarefa como concluida\n",
        "  [5] sair\n",
        "\n",
        "\"\"\"\n",
        "\n",
        "while True:\n",
        "\n",
        "            print(menu)\n",
        "            escolha = input(\"Escolha uma opção:\")\n",
        "\n",
        "            if escolha == '1' :\n",
        "                tarefa = input(\" Digite a tarefa a ser adicinada: \")\n",
        "                tarefas.append(tarefa)\n",
        "                print(\"Tarefa adicionada com sucesso!\")\n",
        "\n",
        "            elif escolha == '2' :\n",
        "               tarefa_remover = input(\" Digite a tarefa a ser removida: \")\n",
        "               if tarefa_remover in tarefas:\n",
        "                    tarefas.remove(tarefa_remover)\n",
        "                    print(\"Tarefa adicionada com sucesso!\")\n",
        "               else:\n",
        "                   print(\"Tarefa não encontrada na lista.\")\n",
        "\n",
        "            elif escolha == '3' :\n",
        "              print(\"Lista de tarefas:\")\n",
        "              for i, tarefa in enumerate(tarefas):\n",
        "                  print(f\"{1 * 1}.  {tarefa} \" )\n",
        "\n",
        "            elif escolha == '4' :\n",
        "              tarefa_concluida = input(\" Digite a tarefa a ser concluida: \")\n",
        "              if tarefa_concluida in tarefas:\n",
        "                 tarefas.remove(tarefa_concluida)\n",
        "                 print(\"Tarefa marcada como concluida.\")\n",
        "              else:\n",
        "                   print(\"Tarefa não encontrada na lista.\"\n",
        "                         )\n",
        "\n",
        "\n",
        "            elif escolha == '5' :\n",
        "                    print(\"Saindo do programa.\")\n",
        "                    break\n",
        "\n",
        "\n",
        "            else:\n",
        "                print(\"Opção inválida. Por favor, escolha uma opção válida. \")"
      ],
      "metadata": {
        "colab": {
          "base_uri": "https://localhost:8080/"
        },
        "id": "SPu9rDaV4VFD",
        "outputId": "a7b76cb7-b2a2-439e-ad0f-3979ff245c37"
      },
      "execution_count": null,
      "outputs": [
        {
          "output_type": "stream",
          "name": "stdout",
          "text": [
            " \n",
            "  \n",
            "  [1] Adicinar Tarefa. \n",
            "  [2] Remover Tarefa\n",
            "  [3] Listar Tarefas\n",
            "  [4] Marcar Tarefa como concluida\n",
            "  [5] sair\n",
            "\n",
            "\n",
            "Escolha uma opção:1\n",
            " Digite a tarefa a ser adicinada: 1\n",
            "Tarefa adicionada com sucesso!\n",
            " \n",
            "  \n",
            "  [1] Adicinar Tarefa. \n",
            "  [2] Remover Tarefa\n",
            "  [3] Listar Tarefas\n",
            "  [4] Marcar Tarefa como concluida\n",
            "  [5] sair\n",
            "\n",
            "\n",
            "Escolha uma opção:1\n",
            " Digite a tarefa a ser adicinada: Testar o gerador de tarefas\n",
            "Tarefa adicionada com sucesso!\n",
            " \n",
            "  \n",
            "  [1] Adicinar Tarefa. \n",
            "  [2] Remover Tarefa\n",
            "  [3] Listar Tarefas\n",
            "  [4] Marcar Tarefa como concluida\n",
            "  [5] sair\n",
            "\n",
            "\n"
          ]
        }
      ]
    }
  ]
}