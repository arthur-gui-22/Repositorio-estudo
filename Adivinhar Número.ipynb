{
  "nbformat": 4,
  "nbformat_minor": 0,
  "metadata": {
    "colab": {
      "provenance": [],
      "authorship_tag": "ABX9TyN3Fe5zR1kPTPsbtC8KxtFv",
      "include_colab_link": true
    },
    "kernelspec": {
      "name": "python3",
      "display_name": "Python 3"
    },
    "language_info": {
      "name": "python"
    }
  },
  "cells": [
    {
      "cell_type": "markdown",
      "metadata": {
        "id": "view-in-github",
        "colab_type": "text"
      },
      "source": [
        "<a href=\"https://colab.research.google.com/github/arthur-gui-22/Repositorio-estudo/blob/main/Adivinhar%20N%C3%BAmero.ipynb\" target=\"_parent\"><img src=\"https://colab.research.google.com/assets/colab-badge.svg\" alt=\"Open In Colab\"/></a>"
      ]
    },
    {
      "cell_type": "code",
      "execution_count": null,
      "metadata": {
        "id": "Uijp4BQN2BTa"
      },
      "outputs": [],
      "source": [
        "import random\n",
        "import os\n",
        "erros=0\n",
        "sorteado=random.randrange(0,100)\n",
        "jogador=int(input(\"Digite seu número:\"))\n",
        "while(sorteado!=jogador):\n",
        "    os.system('cls')\n",
        "    if(sorteado>jogador):\n",
        "        print(\"ERRO, o númeruo é maior\")\n",
        "    elif(sorteado>jogador):\n",
        "        print(\"ERRO, o númeruo é menor\")\n",
        "    erros+=1\n",
        "    jogador=int(input(\"Digite seu número:\"))\n",
        "print(\"Numero\" + str(jogador) + \",voce acertou em\" + str(erros+1) + \"tentativas\")"
      ]
    }
  ]
}