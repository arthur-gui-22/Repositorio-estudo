{
  "nbformat": 4,
  "nbformat_minor": 0,
  "metadata": {
    "colab": {
      "provenance": [],
      "authorship_tag": "ABX9TyOaLKg86LHxKCY4moeICP5u",
      "include_colab_link": true
    },
    "kernelspec": {
      "name": "python3",
      "display_name": "Python 3"
    },
    "language_info": {
      "name": "python"
    }
  },
  "cells": [
    {
      "cell_type": "markdown",
      "metadata": {
        "id": "view-in-github",
        "colab_type": "text"
      },
      "source": [
        "<a href=\"https://colab.research.google.com/github/arthur-gui-22/Repositorio-estudo/blob/main/Previs%C3%A3o%20do%20Tempo%20comentada%20.ipynb\" target=\"_parent\"><img src=\"https://colab.research.google.com/assets/colab-badge.svg\" alt=\"Open In Colab\"/></a>"
      ]
    },
    {
      "cell_type": "code",
      "execution_count": null,
      "metadata": {
        "id": "XzBm0nLtMUUt"
      },
      "outputs": [],
      "source": [
        "import requests\n",
        "import json #pip install json\n",
        "\n",
        "iTOKEN = \" 04473e07b2244a9209154fca9058bbab\"\n",
        "iCIDADE = \"3477\"\n",
        "iTIPOCONSULTA = 1\n",
        "\n",
        "if iTIPOCONSULTA == 1:\n",
        "    iCITY =input(\"Informe o nome da cidade:\")\n",
        "    iURL = \"http://apiadvisor.climatempo.com.br/api/v1/locale/city?name=\" + str(iCITY) + \"&token=\" + str(iTOKEN)\n",
        "    iRESPONSE = requests.request(\"GET\", iURL)\n",
        "    iRETORNO_REQ = json.loads(iRESPONSE.text)\n",
        "    for iCHAVE in iRETORNO_REQ:\n",
        "       #Erro na iID = iCHAVE['id']\n",
        "        iID = iCHAVE['id']\n",
        "        iNAME = iCHAVE['name']\n",
        "        iSTATE = iCHAVE['state']\n",
        "        iCOUNTRY = iCHAVE['country']\n",
        "        print(\"id:\" + str(iID) + \" idiNAME: \" + str(iNAME) + \"idiSTATE: \"  + str(iSTATE) + \" idiCOUNTRY: \" + str(iCOUNTRY))\n",
        "    iNEWCITY = input(\"Informe o ID da cidade:\")\n",
        "    #Erro na iURL \"http://apiadvisor.climatempo.com.br/api-manager/user-token/\" + str(iTOKEN) + \"/locales\"\n",
        "    iURL : \"http://apiadvisor.climatempo.com.br/api-manager/user-token/\" + str(iTOKEN) + \"/locales\"\n",
        "    payload = \"localeId[]=\" + str(iNEWCITY)\n",
        "    headers = {'Content-Type':'application/x-www-form-urlencoded'}\n",
        "    iRESPONSE = requests.request(\"PUT\", iURL, headers=headers, data=payload)\n",
        "    print(iRESPONSE)\n",
        "if iTIPOCONSULTA == 2:\n",
        "    iURL = \" http://apiadvisor.climatempo.com.br/api/v1/weather/locale/3477/current?token=\" + str(iTOKEN)\n",
        "    iRESPONSE = requests.request(\"GET\", iURL)\n",
        "    iRETORNO_REQ = json.loads(iRESPONSE.text)\n",
        "    print(iRETORNO_REQ)"
      ]
    }
  ]
}