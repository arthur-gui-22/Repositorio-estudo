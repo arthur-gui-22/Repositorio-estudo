{
  "nbformat": 4,
  "nbformat_minor": 0,
  "metadata": {
    "colab": {
      "provenance": []
    },
    "kernelspec": {
      "name": "python3",
      "display_name": "Python 3"
    },
    "language_info": {
      "name": "python"
    }
  },
  "cells": [
    {
      "cell_type": "code",
      "execution_count": null,
      "metadata": {
        "colab": {
          "base_uri": "https://localhost:8080/"
        },
        "id": "RPegqQUJV0V2",
        "outputId": "fc891679-494f-4cc1-e269-300012f5865c"
      },
      "outputs": [
        {
          "output_type": "stream",
          "name": "stdout",
          "text": [
            "<class 'bool'>\n"
          ]
        }
      ],
      "source": [
        "# uninassau - Aula 2\n",
        "# Docente: Cloves Rocha\n",
        "# Estudante:?\n",
        "# turma: CC 6MA\n",
        "#Tipos primitivos de dados primitivos\n",
        "\n",
        "#print('olá turma cc 6MA')\n",
        "\n",
        "c = True\n",
        "print(type(c))"
      ]
    }
  ]
}