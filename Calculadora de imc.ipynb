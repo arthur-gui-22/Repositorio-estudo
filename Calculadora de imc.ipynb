{
  "nbformat": 4,
  "nbformat_minor": 0,
  "metadata": {
    "colab": {
      "provenance": [],
      "authorship_tag": "ABX9TyMhx7Sl7DNO/cOWDuDE26Nv",
      "include_colab_link": true
    },
    "kernelspec": {
      "name": "python3",
      "display_name": "Python 3"
    },
    "language_info": {
      "name": "python"
    }
  },
  "cells": [
    {
      "cell_type": "markdown",
      "metadata": {
        "id": "view-in-github",
        "colab_type": "text"
      },
      "source": [
        "<a href=\"https://colab.research.google.com/github/arthur-gui-22/Repositorio-estudo/blob/main/Calculadora%20de%20imc.ipynb\" target=\"_parent\"><img src=\"https://colab.research.google.com/assets/colab-badge.svg\" alt=\"Open In Colab\"/></a>"
      ]
    },
    {
      "cell_type": "code",
      "execution_count": null,
      "metadata": {
        "id": "LorbyDTq9nVd"
      },
      "outputs": [],
      "source": [
        "#Calculadora(imc)\n",
        "peso = float(input('Digite seu peso em kg:'))\n",
        "altura = float(input('Digite sua altura em metros:'))\n",
        "\n",
        "imc = peso / (altura * altura)\n",
        "print(imc)\n",
        "\n",
        "if (imc < 18.5):\n",
        "    print(\"Abaixo do peso\")\n",
        "elif (imc < 25):\n",
        "     print(\"Peso normal\")\n",
        "elif (imc < 30):\n",
        "     print(\"Sobrepeso\")\n",
        "elif (imc < 35):\n",
        "     print(\"Obesidade grau 1\")\n",
        "elif (imc < 40):\n",
        "     print(\"Obesidade grau 2\")\n",
        "else:\n",
        "     print(\"Obesidade grau 3\")"
      ]
    }
  ]
}