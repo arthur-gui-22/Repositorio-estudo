{
  "nbformat": 4,
  "nbformat_minor": 0,
  "metadata": {
    "colab": {
      "provenance": [],
      "authorship_tag": "ABX9TyMcdH0/kY/L3AybcJvW/P3o",
      "include_colab_link": true
    },
    "kernelspec": {
      "name": "python3",
      "display_name": "Python 3"
    },
    "language_info": {
      "name": "python"
    }
  },
  "cells": [
    {
      "cell_type": "markdown",
      "metadata": {
        "id": "view-in-github",
        "colab_type": "text"
      },
      "source": [
        "<a href=\"https://colab.research.google.com/github/arthur-gui-22/Repositorio-estudo/blob/main/Jogo%20da%20Forca.ipynb\" target=\"_parent\"><img src=\"https://colab.research.google.com/assets/colab-badge.svg\" alt=\"Open In Colab\"/></a>"
      ]
    },
    {
      "cell_type": "code",
      "execution_count": null,
      "metadata": {
        "id": "LwJzDydBiHJs"
      },
      "outputs": [],
      "source": [
        "#Jogo da forca\n",
        "\n",
        "import random\n",
        "\n",
        "# Lista de palavras para o jogo\n",
        "palavras = [\"vulção\", \"neve\", \"montanha\", \"cidada\", \"natureza\", \"oceano\"]\n",
        "\n",
        "# Escolhe uma palavra aleatória da lista\n",
        "palavra = random.choice(palavras)\n",
        "\n",
        "# Inicialização das variáveis\n",
        "tentativas = 6  # Número de tentativas permitidas\n",
        "letras_corretas = []\n",
        "letras_erradas = []\n",
        "\n",
        "# Função para mostrar a palavra atual com letras adivinhadas\n",
        "def mostrar_palavra(palavra, letras_corretas):\n",
        "    resultado = \"\"\n",
        "    for letra in palavra:\n",
        "        if letra in letras_corretas:\n",
        "            resultado += letra\n",
        "        else:\n",
        "            resultado += \"_\"\n",
        "    return resultado\n",
        "\n",
        "# Loop principal do jogo\n",
        "while tentativas > 0:\n",
        "    # Mostra a palavra atual com as letras adivinhadas\n",
        "    print(mostrar_palavra(palavra, letras_corretas))\n",
        "\n",
        "    # Mostra as letras erradas\n",
        "    if letras_erradas:\n",
        "        print(f\"Letras erradas: {' '.join(letras_erradas)}\")\n",
        "\n",
        "    # Obtêm o palpite do jogador\n",
        "    palpite = input(\"Adivinhe uma letra: \").lower()\n",
        "\n",
        "    # Verifica se o palpite é uma única letra\n",
        "    if len(palpite) != 1 or not palpite.isalpha():\n",
        "        print(\"Por favor, insira uma única letra válida.\")\n",
        "        continue\n",
        "\n",
        "    # Verifica se o palpite já foi feito\n",
        "    if palpite in letras_corretas or palpite in letras_erradas:\n",
        "        print(\"Você já utilizou essa letra, tente outra.\")\n",
        "        continue\n",
        "\n",
        "    # Verifica se o palpite está na palavra\n",
        "    if palpite in palavra:\n",
        "        letras_corretas.append(palpite)\n",
        "    else:\n",
        "        letras_erradas.append(palpite)\n",
        "        tentativas -= 1\n",
        "\n",
        "    # Verifica se o jogador ganhou\n",
        "    if set(letras_corretas) == set(palavra):\n",
        "        print(\"Parabéns! Você ganhou. A palavra é:\", palavra)\n",
        "        break\n",
        "\n",
        "# Verifica se o jogador perdeu\n",
        "if tentativas == 0:\n",
        "    print(\"Você perdeu. A palavra era:\", palavra)"
      ]
    }
  ]
}