{
  "nbformat": 4,
  "nbformat_minor": 0,
  "metadata": {
    "colab": {
      "provenance": [],
      "authorship_tag": "ABX9TyNlv+QDWRrx2SJHAF/zfopV",
      "include_colab_link": true
    },
    "kernelspec": {
      "name": "python3",
      "display_name": "Python 3"
    },
    "language_info": {
      "name": "python"
    }
  },
  "cells": [
    {
      "cell_type": "markdown",
      "metadata": {
        "id": "view-in-github",
        "colab_type": "text"
      },
      "source": [
        "<a href=\"https://colab.research.google.com/github/arthur-gui-22/Repositorio-estudo/blob/main/Reserva%20de%20Cinema.ipynb\" target=\"_parent\"><img src=\"https://colab.research.google.com/assets/colab-badge.svg\" alt=\"Open In Colab\"/></a>"
      ]
    },
    {
      "cell_type": "code",
      "source": [
        "#Reserva de cinema\n",
        "\n",
        "# Variáveis globais para filmes e horários\n",
        "filmes = [\"Filme A\", \"Filme B\", \"Filme C\"]\n",
        "horarios = [\"12:00\", \"13:00\", \"18:00\"]\n",
        "\n",
        "# Função para mostrar os filmes disponíveis\n",
        "def mostrar_filmes():\n",
        "    print(\"Filmes disponíveis:\")\n",
        "    for i, filme in enumerate(filmes):\n",
        "        print(f\"{i + 1}. {filme}\")\n",
        "\n",
        "# Função para mostrar os horários\n",
        "def mostrar_horarios():\n",
        "    print(\"Horários disponíveis:\")\n",
        "    for i, horario in enumerate(horarios):\n",
        "        print(f\"{i + 1}. {horario}\")\n",
        "\n",
        "# Função para fazer uma reserva\n",
        "def fazer_reserva():\n",
        "    mostrar_filmes()\n",
        "    filme_escolhido = int(input(\"Escolha o filme (número): \"))\n",
        "    mostrar_horarios()\n",
        "    horario_escolhido = int(input(\"Escolha o horário (número): \"))\n",
        "    quantidade_ingressos = int(input(\"Quantos ingressos deseja comprar: \"))\n",
        "\n",
        "    # Registre a reserva no arquivo\n",
        "    with open(\"reservas.txt\", \"a\") as arquivo:\n",
        "        arquivo.write(f\"Filme: {filmes[filme_escolhido-1]}, Horário: {horarios[horario_escolhido-1]}, Ingressos: {quantidade_ingressos}\\n\")\n",
        "\n",
        "    print(\"Reserva feita com sucesso!\")\n",
        "\n",
        "# Função para mostrar reservas\n",
        "def mostrar_reservas():\n",
        "    with open(\"reservas.txt\", \"r\") as arquivo:\n",
        "        reservas = arquivo.readlines()\n",
        "        if not reservas:\n",
        "            print(\"Nenhuma reserva foi feita ainda.\")\n",
        "        else:\n",
        "            print(\"Reservas:\")\n",
        "            for reserva in reservas:\n",
        "                print(reserva)\n",
        "\n",
        "# Função principal\n",
        "def main():\n",
        "    while True:\n",
        "        print(\"\\nBem-vindo ao Sistema de Reservas de Cinema\")\n",
        "        print(\"1. Fazer uma reserva\")\n",
        "        print(\"2. Mostrar reservas\")\n",
        "        print(\"3. Sair\")\n",
        "        opcao = input(\"Escolha uma opção (1/2/3): \")\n",
        "\n",
        "        if opcao == \"1\":\n",
        "            fazer_reserva()\n",
        "        elif opcao == \"2\":\n",
        "            mostrar_reservas()\n",
        "        elif opcao == \"3\":\n",
        "            print(\" Agradecemos por usar nosso sistema de reservas. Volte sempre!\")\n",
        "            break\n",
        "        else:\n",
        "            print(\"Opção inválida. Por favor, escolha uma outra opção.\")\n",
        "\n",
        "if __name__ == \"__main__\":\n",
        "    main()"
      ],
      "metadata": {
        "colab": {
          "base_uri": "https://localhost:8080/"
        },
        "id": "ynRHIkC3Fchi",
        "outputId": "2ad47ced-876e-461b-ffc8-8ecff1285353"
      },
      "execution_count": null,
      "outputs": [
        {
          "output_type": "stream",
          "name": "stdout",
          "text": [
            "\n",
            "Bem-vindo ao Sistema de Reservas de Cinema\n",
            "1. Fazer uma reserva\n",
            "2. Mostrar reservas\n",
            "3. Sair\n"
          ]
        }
      ]
    }
  ]
}