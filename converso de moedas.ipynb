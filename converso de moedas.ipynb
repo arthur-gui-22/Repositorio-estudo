{
  "nbformat": 4,
  "nbformat_minor": 0,
  "metadata": {
    "colab": {
      "provenance": [],
      "authorship_tag": "ABX9TyPVE7EoNxSo5YN9C/wdqlSJ",
      "include_colab_link": true
    },
    "kernelspec": {
      "name": "python3",
      "display_name": "Python 3"
    },
    "language_info": {
      "name": "python"
    }
  },
  "cells": [
    {
      "cell_type": "markdown",
      "metadata": {
        "id": "view-in-github",
        "colab_type": "text"
      },
      "source": [
        "<a href=\"https://colab.research.google.com/github/arthur-gui-22/Repositorio-estudo/blob/main/converso%20de%20moedas.ipynb\" target=\"_parent\"><img src=\"https://colab.research.google.com/assets/colab-badge.svg\" alt=\"Open In Colab\"/></a>"
      ]
    },
    {
      "cell_type": "code",
      "source": [
        "from requests.models import Response\n",
        "import requests\n",
        "\n",
        "def obter_taxas():\n",
        "    url = \"https://api.exchangerate-api.com/v4/latest/USD\"\n",
        "    reponse = requests.get(url)\n",
        "    data = reponse.json()\n",
        "    return data['rates']\n",
        "\n",
        "def converter_moedas(valor, moeda_origem, moeda_destino, taxas):\n",
        "     if moeda_origem in taxas and moeda_destino in taxas:\n",
        "        taxa_origem = taxas[moeda_origem]\n",
        "        taxa_destino = taxas[moeda_destino]\n",
        "        valor_em_usd =valor / taxa_origem\n",
        "        valor_convertido = valor_em_usd * taxa_destino\n",
        "        return valor_convertido\n",
        "     else:\n",
        "         return None\n",
        "\n",
        "taxa_de_cambio = obter_taxas()\n",
        "valor = float(input('Qual o valor a ser convertido: '))\n",
        "moeda_origem = input('Qual é a moeda de origem:').upper()\n",
        "moeda_destino = input('Qual a moeda de destino:').upper()\n",
        "\n",
        "valor_convertido = converter_moedas(\n",
        "    valor, moeda_origem, moeda_destino, taxa_de_cambio)\n",
        "\n",
        "if valor_convertido is not None:\n",
        "    print(f'\\n{valor:.2f} {moeda_origem} é equivalente a {valor_convertido:.2f} {moeda_destino}')\n",
        "else:\n",
        "    print('Moedas não encontradas ou inválidas')"
      ],
      "metadata": {
        "id": "EJKu9H5nm8SU"
      },
      "execution_count": null,
      "outputs": []
    },
    {
      "cell_type": "code",
      "source": [],
      "metadata": {
        "id": "U2GjWFeT10kD"
      },
      "execution_count": null,
      "outputs": []
    }
  ]
}