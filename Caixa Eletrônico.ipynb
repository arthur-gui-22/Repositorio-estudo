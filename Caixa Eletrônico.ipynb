{
  "nbformat": 4,
  "nbformat_minor": 0,
  "metadata": {
    "colab": {
      "provenance": [],
      "authorship_tag": "ABX9TyP491OPD/lvU+noNWUHxZ8v",
      "include_colab_link": true
    },
    "kernelspec": {
      "name": "python3",
      "display_name": "Python 3"
    },
    "language_info": {
      "name": "python"
    }
  },
  "cells": [
    {
      "cell_type": "markdown",
      "metadata": {
        "id": "view-in-github",
        "colab_type": "text"
      },
      "source": [
        "<a href=\"https://colab.research.google.com/github/arthur-gui-22/Repositorio-estudo/blob/main/Caixa%20Eletr%C3%B4nico.ipynb\" target=\"_parent\"><img src=\"https://colab.research.google.com/assets/colab-badge.svg\" alt=\"Open In Colab\"/></a>"
      ]
    },
    {
      "cell_type": "code",
      "source": [
        "#simulador de caixa eletrônico\n",
        "print('=' * 30)\n",
        "print('{:^30}'.format('BANCO SIR'))\n",
        "print('=' * 30)\n",
        "valor= int(input('Que valor você quer sacar? R$'))\n",
        "total = valor\n",
        "ced = 50\n",
        "totced = 0\n",
        "while True:\n",
        "   if total >= ced:\n",
        "      total -= ced\n",
        "      totced += 1\n",
        "   else:\n",
        "    if totced > 0:\n",
        "      print(f'Total de {totced} cédulas de R${ced}')\n",
        "    if ced == 50:\n",
        "        ced = 20\n",
        "    elif ced == 20:\n",
        "        ced = 10\n",
        "    elif ced == 10:\n",
        "        ced = 1\n",
        "    totced = 0\n",
        "    if total == 0:\n",
        "       break\n",
        "print('=' * 30)\n",
        "print('Volte sempre ao BANCO SIR! tenha um bom dia!')\n"
      ],
      "metadata": {
        "colab": {
          "base_uri": "https://localhost:8080/"
        },
        "id": "CByS3jfDnT24",
        "outputId": "6c249e8b-b57e-4d4c-d343-965d19ad6e03"
      },
      "execution_count": 32,
      "outputs": [
        {
          "output_type": "stream",
          "name": "stdout",
          "text": [
            "==============================\n",
            "          BANCO SIR           \n",
            "==============================\n",
            "Que valor você quer sacar? R$163\n",
            "Total de 3 cédulas de R$50\n",
            "Total de 1 cédulas de R$10\n",
            "Total de 3 cédulas de R$1\n",
            "==============================\n",
            "Volte sempre ao BANCO SIR! tenha um bom dia!\n"
          ]
        }
      ]
    }
  ]
}