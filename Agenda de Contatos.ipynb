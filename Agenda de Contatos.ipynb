{
  "nbformat": 4,
  "nbformat_minor": 0,
  "metadata": {
    "colab": {
      "provenance": [],
      "authorship_tag": "ABX9TyPDhrr+Mely1qn4aqp0BV+1",
      "include_colab_link": true
    },
    "kernelspec": {
      "name": "python3",
      "display_name": "Python 3"
    },
    "language_info": {
      "name": "python"
    }
  },
  "cells": [
    {
      "cell_type": "markdown",
      "metadata": {
        "id": "view-in-github",
        "colab_type": "text"
      },
      "source": [
        "<a href=\"https://colab.research.google.com/github/arthur-gui-22/Repositorio-estudo/blob/main/Agenda%20de%20Contatos.ipynb\" target=\"_parent\"><img src=\"https://colab.research.google.com/assets/colab-badge.svg\" alt=\"Open In Colab\"/></a>"
      ]
    },
    {
      "cell_type": "code",
      "source": [
        "#Agenda de Contatos\n",
        "import csv\n",
        "import os\n",
        "def criar_arquivo_csv():\n",
        "    if not os.path.exists('agenda.csv'):\n",
        "        with open('agenda.csv', 'w', newline='') as file:\n",
        "            writer = csv.writer(file)\n",
        "            writer.writerow([\"Nome\", \"Telefone\"])\n",
        "def adicionar_contato(nome, telefone):\n",
        "    with open('agenda.csv', 'a', newline='') as file:\n",
        "        writer = csv.writer(file)\n",
        "        writer.writerow([nome, telefone])\n",
        "    print(f\"Contato {nome} adicionado com sucesso!\")\n",
        "def listar_contatos():\n",
        "    with open('agenda.csv', 'r', newline='') as file:\n",
        "        reader = csv.reader(file)\n",
        "        next(reader)\n",
        "        for row in reader:\n",
        "          print(f\"Nome: {row[0]}, Telefone: {row[1]}\")\n",
        "def buscar_contato(nome):\n",
        "    with open('agenda.csv', 'r', newline='') as file:\n",
        "        reader = csv.reader(file)\n",
        "        next(reader)\n",
        "    for row in reader:\n",
        "     if row[0] == nome:\n",
        "      print(f\"Contato encontrado - Nome: {row[0]}, Telefone: {row[1]}\")\n",
        "\n",
        "     return\n",
        "\n",
        "print(f\"Contato não encontrado\")\n",
        "\n",
        "def remover_contato(nome):\n",
        "    with open('agenda.csv', 'r', newline='') as file:\n",
        "        lines = list(csv.reader(file))\n",
        "    removed = False\n",
        "    with open('agenda.csv', 'w', newline='') as file:\n",
        "        writer = csv.writer(file)\n",
        "        writer.writerow([\"Nome\", \"Telefone\"])\n",
        "        for row in lines:\n",
        "            if row[0] == nome:\n",
        "                print(f\"Contato {nome} removido com sucesso!\")\n",
        "                removed = True\n",
        "            else:\n",
        "                writer.writerow(row)\n",
        "    if not removed:\n",
        "        print(f\"Contato não encontrado\")\n",
        "criar_arquivo_csv()\n",
        "while True:\n",
        "\n",
        "    print(\"\\nEscolha uma opção:\")\n",
        "    print(\"1 - Adicionar contato\")\n",
        "    print(\"2 - Listar contatos\")\n",
        "    print(\"3 - Buscar contato\")\n",
        "    print(\"4 - Remover contato\")\n",
        "    print(\"5 - Sair\")\n",
        "    escolha = input(\"Opção: \")\n",
        "    if escolha == \"1\":\n",
        "        nome = input(\"Nome: \")\n",
        "        telefone = input(\"Telefone: \")\n",
        "        adicionar_contato(nome, telefone)\n",
        "    elif escolha == \"2\":\n",
        "        print(\"\\nLista de contatos:\")\n",
        "        listar_contatos()\n",
        "    elif escolha == \"3\":\n",
        "        nome = input(\"Nome a ser buscado: \")\n",
        "        buscar_contato(nome)\n",
        "    elif escolha == \"4\":\n",
        "        nome = input(\"Nome a ser removido: \")\n",
        "        remover_contato(nome)\n",
        "    elif escolha == \"5\":\n",
        "        break\n",
        "    else:\n",
        "        print(\"Opção inválida. Por favor, escolha uma opção válida.\")"
      ],
      "metadata": {
        "id": "qG1RiiEaHhCE"
      },
      "execution_count": null,
      "outputs": []
    }
  ]
}