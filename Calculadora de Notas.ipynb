{
  "nbformat": 4,
  "nbformat_minor": 0,
  "metadata": {
    "colab": {
      "provenance": [],
      "authorship_tag": "ABX9TyM071KHHYRf0+KLsmnSgBOA",
      "include_colab_link": true
    },
    "kernelspec": {
      "name": "python3",
      "display_name": "Python 3"
    },
    "language_info": {
      "name": "python"
    }
  },
  "cells": [
    {
      "cell_type": "markdown",
      "metadata": {
        "id": "view-in-github",
        "colab_type": "text"
      },
      "source": [
        "<a href=\"https://colab.research.google.com/github/arthur-gui-22/Repositorio-estudo/blob/main/Calculadora%20de%20Notas.ipynb\" target=\"_parent\"><img src=\"https://colab.research.google.com/assets/colab-badge.svg\" alt=\"Open In Colab\"/></a>"
      ]
    },
    {
      "cell_type": "code",
      "source": [
        "#Calculadora de Notas\n",
        "def calcular_nota(media):\n",
        "\n",
        "    if media >= 90:\n",
        "\n",
        "        return 'A'\n",
        "\n",
        "    elif media >= 80:\n",
        "\n",
        "        return 'B'\n",
        "\n",
        "    elif media >= 70:\n",
        "\n",
        "        return 'C'\n",
        "\n",
        "    elif media >= 60:\n",
        "\n",
        "        return 'D'\n",
        "\n",
        "    else:\n",
        "\n",
        "        return 'F'\n",
        "\n",
        "\n",
        "\n",
        "# Solicita ao usuário a quantidade de notas\n",
        "\n",
        "num_notas = int(input(\"Quantas notas você deseja inserir? \"))\n",
        "\n",
        "\n",
        "\n",
        "# Inicializa a variável para armazenar a soma das notas\n",
        "\n",
        "soma_notas = 0\n",
        "\n",
        "\n",
        "\n",
        "# Solicita ao usuário inserir as notas\n",
        "\n",
        "for i in range(num_notas):\n",
        "\n",
        "    nota = float(input(f\"Insira a nota {i + 1}: \"))\n",
        "\n",
        "    soma_notas += nota\n",
        "\n",
        "\n",
        "\n",
        "# Calcula a média das notas\n",
        "\n",
        "media = soma_notas / num_notas\n",
        "\n",
        "\n",
        "\n",
        "# Calcula a nota correspondente\n",
        "\n",
        "nota_correspondente = calcular_nota(media)\n",
        "\n",
        "\n",
        "\n",
        "# Exibe a média e a nota correspondente\n",
        "\n",
        "print(f\"A média das notas é: {media}\")\n",
        "\n",
        "print(f\"A nota correspondente é: {nota_correspondente}\")"
      ],
      "metadata": {
        "id": "kfo-PpKfF-V5"
      },
      "execution_count": null,
      "outputs": []
    }
  ]
}